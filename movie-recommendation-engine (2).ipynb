{
 "cells": [
  {
   "cell_type": "markdown",
   "id": "3f82f0fe",
   "metadata": {
    "_cell_guid": "b1076dfc-b9ad-4769-8c92-a6c4dae69d19",
    "_uuid": "8f2839f25d086af736a60e9eeb907d3b93b6e0e5",
    "papermill": {
     "duration": 0.040171,
     "end_time": "2021-12-17T12:11:48.664555",
     "exception": false,
     "start_time": "2021-12-17T12:11:48.624384",
     "status": "completed"
    },
    "tags": []
   },
   "source": [
    " # MOVIE RECOMMENDATION ENGINE\n",
    "\n",
    "\n",
    "**MOVIE RECOMMENDATION ENGINE** : A Engine which will recommend best movie to the user"
   ]
  },
  {
   "cell_type": "markdown",
   "id": "ff6ac454",
   "metadata": {
    "papermill": {
     "duration": 0.03904,
     "end_time": "2021-12-17T12:11:48.744356",
     "exception": false,
     "start_time": "2021-12-17T12:11:48.705316",
     "status": "completed"
    },
    "tags": []
   },
   "source": [
    "Importing library files\n",
    "1. Pandas\n",
    "1. Numpy\n",
    "1. Matplotlib\n",
    "1. Seaborn"
   ]
  },
  {
   "cell_type": "code",
   "execution_count": 3,
   "id": "c0cccbbd",
   "metadata": {
    "execution": {
     "iopub.execute_input": "2021-12-17T12:11:48.837290Z",
     "iopub.status.busy": "2021-12-17T12:11:48.836362Z",
     "iopub.status.idle": "2021-12-17T12:11:49.892306Z",
     "shell.execute_reply": "2021-12-17T12:11:49.891566Z",
     "shell.execute_reply.started": "2021-12-17T12:08:17.789804Z"
    },
    "papermill": {
     "duration": 1.108699,
     "end_time": "2021-12-17T12:11:49.892483",
     "exception": false,
     "start_time": "2021-12-17T12:11:48.783784",
     "status": "completed"
    },
    "tags": []
   },
   "outputs": [
    {
     "ename": "ModuleNotFoundError",
     "evalue": "No module named 'numpy'",
     "output_type": "error",
     "traceback": [
      "\u001b[1;31m---------------------------------------------------------------------------\u001b[0m",
      "\u001b[1;31mModuleNotFoundError\u001b[0m                       Traceback (most recent call last)",
      "\u001b[1;32mc:\\Users\\admin\\OneDrive\\Desktop\\II\\movie-recommendation-engine (2).ipynb Cell 3\u001b[0m in \u001b[0;36m<cell line: 3>\u001b[1;34m()\u001b[0m\n\u001b[0;32m      <a href='vscode-notebook-cell:/c%3A/Users/admin/OneDrive/Desktop/II/movie-recommendation-engine%20%282%29.ipynb#ch0000002?line=0'>1</a>\u001b[0m \u001b[39mimport\u001b[39;00m \u001b[39mwarnings\u001b[39;00m\n\u001b[0;32m      <a href='vscode-notebook-cell:/c%3A/Users/admin/OneDrive/Desktop/II/movie-recommendation-engine%20%282%29.ipynb#ch0000002?line=1'>2</a>\u001b[0m warnings\u001b[39m.\u001b[39mfilterwarnings(\u001b[39m'\u001b[39m\u001b[39mignore\u001b[39m\u001b[39m'\u001b[39m)\n\u001b[1;32m----> <a href='vscode-notebook-cell:/c%3A/Users/admin/OneDrive/Desktop/II/movie-recommendation-engine%20%282%29.ipynb#ch0000002?line=2'>3</a>\u001b[0m \u001b[39mimport\u001b[39;00m \u001b[39mnumpy\u001b[39;00m \u001b[39mas\u001b[39;00m \u001b[39mnp\u001b[39;00m\n\u001b[0;32m      <a href='vscode-notebook-cell:/c%3A/Users/admin/OneDrive/Desktop/II/movie-recommendation-engine%20%282%29.ipynb#ch0000002?line=3'>4</a>\u001b[0m \u001b[39mimport\u001b[39;00m \u001b[39mpandas\u001b[39;00m \u001b[39mas\u001b[39;00m \u001b[39mpd\u001b[39;00m\n\u001b[0;32m      <a href='vscode-notebook-cell:/c%3A/Users/admin/OneDrive/Desktop/II/movie-recommendation-engine%20%282%29.ipynb#ch0000002?line=4'>5</a>\u001b[0m \u001b[39mimport\u001b[39;00m \u001b[39mmatplotlib\u001b[39;00m\u001b[39m.\u001b[39;00m\u001b[39mpyplot\u001b[39;00m \u001b[39mas\u001b[39;00m \u001b[39mplt\u001b[39;00m\n",
      "\u001b[1;31mModuleNotFoundError\u001b[0m: No module named 'numpy'"
     ]
    }
   ],
   "source": [
    "import warnings\n",
    "warnings.filterwarnings('ignore')\n",
    "import numpy as np\n",
    "import pandas as pd\n",
    "import matplotlib.pyplot as plt\n",
    "import seaborn as sns"
   ]
  },
  {
   "cell_type": "markdown",
   "id": "8c3b5577",
   "metadata": {
    "papermill": {
     "duration": 0.039702,
     "end_time": "2021-12-17T12:11:49.975073",
     "exception": false,
     "start_time": "2021-12-17T12:11:49.935371",
     "status": "completed"
    },
    "tags": []
   },
   "source": [
    "**Load the dataset through pandas library**"
   ]
  },
  {
   "cell_type": "code",
   "execution_count": null,
   "id": "94dc3398",
   "metadata": {
    "execution": {
     "iopub.execute_input": "2021-12-17T12:11:50.058927Z",
     "iopub.status.busy": "2021-12-17T12:11:50.058237Z",
     "iopub.status.idle": "2021-12-17T12:11:50.192348Z",
     "shell.execute_reply": "2021-12-17T12:11:50.192929Z",
     "shell.execute_reply.started": "2021-12-17T12:08:18.919182Z"
    },
    "papermill": {
     "duration": 0.177016,
     "end_time": "2021-12-17T12:11:50.193115",
     "exception": false,
     "start_time": "2021-12-17T12:11:50.016099",
     "status": "completed"
    },
    "tags": []
   },
   "outputs": [
    {
     "ename": "",
     "evalue": "",
     "output_type": "error",
     "traceback": [
      "\u001b[1;31mRunning cells with 'Python 3.10.2 64-bit' requires ipykernel package.\n",
      "Run the following command to install 'ipykernel' into the Python environment. \n",
      "Command: 'c:/Users/admin/AppData/Local/Programs/Python/Python310/python.exe -m pip install ipykernel -U --user --force-reinstall'"
     ]
    }
   ],
   "source": [
    "movies=pd.read_csv('../input/mr-data/movies.csv')  # movies data\n",
    "ratings= pd.read_csv('../input/mr-data/ratings.csv')  # ratings data\n",
    "movies.head(2) # movies dataset visualization"
   ]
  },
  {
   "cell_type": "code",
   "execution_count": null,
   "id": "eb5d5108",
   "metadata": {
    "execution": {
     "iopub.execute_input": "2021-12-17T12:11:50.284866Z",
     "iopub.status.busy": "2021-12-17T12:11:50.284013Z",
     "iopub.status.idle": "2021-12-17T12:11:50.287476Z",
     "shell.execute_reply": "2021-12-17T12:11:50.288067Z",
     "shell.execute_reply.started": "2021-12-17T12:08:19.262641Z"
    },
    "papermill": {
     "duration": 0.054848,
     "end_time": "2021-12-17T12:11:50.288253",
     "exception": false,
     "start_time": "2021-12-17T12:11:50.233405",
     "status": "completed"
    },
    "tags": []
   },
   "outputs": [
    {
     "ename": "",
     "evalue": "",
     "output_type": "error",
     "traceback": [
      "\u001b[1;31mRunning cells with 'Python 3.10.2 64-bit' requires ipykernel package.\n",
      "Run the following command to install 'ipykernel' into the Python environment. \n",
      "Command: 'c:/Users/admin/AppData/Local/Programs/Python/Python310/python.exe -m pip install ipykernel -U --user --force-reinstall'"
     ]
    }
   ],
   "source": [
    "ratings.head(2)  # ratings dataset visualization"
   ]
  },
  {
   "cell_type": "markdown",
   "id": "a7bf9fce",
   "metadata": {
    "papermill": {
     "duration": 0.041394,
     "end_time": "2021-12-17T12:11:50.370023",
     "exception": false,
     "start_time": "2021-12-17T12:11:50.328629",
     "status": "completed"
    },
    "tags": []
   },
   "source": [
    "**Find all types of  unique movie genres**"
   ]
  },
  {
   "cell_type": "code",
   "execution_count": null,
   "id": "2d2c7402",
   "metadata": {
    "execution": {
     "iopub.execute_input": "2021-12-17T12:11:50.459449Z",
     "iopub.status.busy": "2021-12-17T12:11:50.458753Z",
     "iopub.status.idle": "2021-12-17T12:11:50.473798Z",
     "shell.execute_reply": "2021-12-17T12:11:50.474343Z",
     "shell.execute_reply.started": "2021-12-17T12:08:20.307867Z"
    },
    "papermill": {
     "duration": 0.063759,
     "end_time": "2021-12-17T12:11:50.474536",
     "exception": false,
     "start_time": "2021-12-17T12:11:50.410777",
     "status": "completed"
    },
    "tags": []
   },
   "outputs": [
    {
     "ename": "",
     "evalue": "",
     "output_type": "error",
     "traceback": [
      "\u001b[1;31mRunning cells with 'Python 3.10.2 64-bit' requires ipykernel package.\n",
      "Run the following command to install 'ipykernel' into the Python environment. \n",
      "Command: 'c:/Users/admin/AppData/Local/Programs/Python/Python310/python.exe -m pip install ipykernel -U --user --force-reinstall'"
     ]
    }
   ],
   "source": [
    "movies['genres'].unique()"
   ]
  },
  {
   "cell_type": "markdown",
   "id": "4ced26a4",
   "metadata": {
    "papermill": {
     "duration": 0.041144,
     "end_time": "2021-12-17T12:11:50.556854",
     "exception": false,
     "start_time": "2021-12-17T12:11:50.515710",
     "status": "completed"
    },
    "tags": []
   },
   "source": [
    "**Find all types of unique ratings of movies**"
   ]
  },
  {
   "cell_type": "code",
   "execution_count": null,
   "id": "d876438f",
   "metadata": {
    "execution": {
     "iopub.execute_input": "2021-12-17T12:11:50.642803Z",
     "iopub.status.busy": "2021-12-17T12:11:50.642123Z",
     "iopub.status.idle": "2021-12-17T12:11:50.648589Z",
     "shell.execute_reply": "2021-12-17T12:11:50.649250Z",
     "shell.execute_reply.started": "2021-12-17T12:08:21.748787Z"
    },
    "papermill": {
     "duration": 0.051237,
     "end_time": "2021-12-17T12:11:50.649437",
     "exception": false,
     "start_time": "2021-12-17T12:11:50.598200",
     "status": "completed"
    },
    "tags": []
   },
   "outputs": [
    {
     "ename": "",
     "evalue": "",
     "output_type": "error",
     "traceback": [
      "\u001b[1;31mRunning cells with 'Python 3.10.2 64-bit' requires ipykernel package.\n",
      "Run the following command to install 'ipykernel' into the Python environment. \n",
      "Command: 'c:/Users/admin/AppData/Local/Programs/Python/Python310/python.exe -m pip install ipykernel -U --user --force-reinstall'"
     ]
    }
   ],
   "source": [
    "ratings['rating'].unique()"
   ]
  },
  {
   "cell_type": "markdown",
   "id": "e1ee894f",
   "metadata": {
    "papermill": {
     "duration": 0.041026,
     "end_time": "2021-12-17T12:11:50.732348",
     "exception": false,
     "start_time": "2021-12-17T12:11:50.691322",
     "status": "completed"
    },
    "tags": []
   },
   "source": [
    "**Find all types of unique movie titles**"
   ]
  },
  {
   "cell_type": "code",
   "execution_count": null,
   "id": "43213dca",
   "metadata": {
    "execution": {
     "iopub.execute_input": "2021-12-17T12:11:50.818602Z",
     "iopub.status.busy": "2021-12-17T12:11:50.817937Z",
     "iopub.status.idle": "2021-12-17T12:11:50.825589Z",
     "shell.execute_reply": "2021-12-17T12:11:50.826222Z",
     "shell.execute_reply.started": "2021-12-17T12:08:23.298963Z"
    },
    "papermill": {
     "duration": 0.052649,
     "end_time": "2021-12-17T12:11:50.826384",
     "exception": false,
     "start_time": "2021-12-17T12:11:50.773735",
     "status": "completed"
    },
    "tags": []
   },
   "outputs": [
    {
     "ename": "",
     "evalue": "",
     "output_type": "error",
     "traceback": [
      "\u001b[1;31mRunning cells with 'Python 3.10.2 64-bit' requires ipykernel package.\n",
      "Run the following command to install 'ipykernel' into the Python environment. \n",
      "Command: 'c:/Users/admin/AppData/Local/Programs/Python/Python310/python.exe -m pip install ipykernel -U --user --force-reinstall'"
     ]
    }
   ],
   "source": [
    "movies['title'].unique()"
   ]
  },
  {
   "cell_type": "markdown",
   "id": "30b6e54f",
   "metadata": {
    "papermill": {
     "duration": 0.041719,
     "end_time": "2021-12-17T12:11:50.909670",
     "exception": false,
     "start_time": "2021-12-17T12:11:50.867951",
     "status": "completed"
    },
    "tags": []
   },
   "source": [
    "**Countplot of user ratings**"
   ]
  },
  {
   "cell_type": "code",
   "execution_count": null,
   "id": "05819ba9",
   "metadata": {
    "execution": {
     "iopub.execute_input": "2021-12-17T12:11:50.995957Z",
     "iopub.status.busy": "2021-12-17T12:11:50.995302Z",
     "iopub.status.idle": "2021-12-17T12:11:51.295632Z",
     "shell.execute_reply": "2021-12-17T12:11:51.296225Z",
     "shell.execute_reply.started": "2021-12-17T12:08:24.672380Z"
    },
    "papermill": {
     "duration": 0.345291,
     "end_time": "2021-12-17T12:11:51.296413",
     "exception": false,
     "start_time": "2021-12-17T12:11:50.951122",
     "status": "completed"
    },
    "tags": []
   },
   "outputs": [
    {
     "ename": "",
     "evalue": "",
     "output_type": "error",
     "traceback": [
      "\u001b[1;31mRunning cells with 'Python 3.10.2 64-bit' requires ipykernel package.\n",
      "Run the following command to install 'ipykernel' into the Python environment. \n",
      "Command: 'c:/Users/admin/AppData/Local/Programs/Python/Python310/python.exe -m pip install ipykernel -U --user --force-reinstall'"
     ]
    }
   ],
   "source": [
    "sns.countplot(ratings['rating'])"
   ]
  },
  {
   "cell_type": "markdown",
   "id": "4246a2a1",
   "metadata": {
    "papermill": {
     "duration": 0.043949,
     "end_time": "2021-12-17T12:11:51.383670",
     "exception": false,
     "start_time": "2021-12-17T12:11:51.339721",
     "status": "completed"
    },
    "tags": []
   },
   "source": [
    "Pie Plot of Movies ratings"
   ]
  },
  {
   "cell_type": "code",
   "execution_count": null,
   "id": "3e9622b6",
   "metadata": {
    "execution": {
     "iopub.execute_input": "2021-12-17T12:11:51.473958Z",
     "iopub.status.busy": "2021-12-17T12:11:51.472935Z",
     "iopub.status.idle": "2021-12-17T12:11:51.739443Z",
     "shell.execute_reply": "2021-12-17T12:11:51.740096Z",
     "shell.execute_reply.started": "2021-12-17T12:08:26.033751Z"
    },
    "papermill": {
     "duration": 0.313071,
     "end_time": "2021-12-17T12:11:51.740276",
     "exception": false,
     "start_time": "2021-12-17T12:11:51.427205",
     "status": "completed"
    },
    "tags": []
   },
   "outputs": [
    {
     "ename": "",
     "evalue": "",
     "output_type": "error",
     "traceback": [
      "\u001b[1;31mRunning cells with 'Python 3.10.2 64-bit' requires ipykernel package.\n",
      "Run the following command to install 'ipykernel' into the Python environment. \n",
      "Command: 'c:/Users/admin/AppData/Local/Programs/Python/Python310/python.exe -m pip install ipykernel -U --user --force-reinstall'"
     ]
    }
   ],
   "source": [
    "plt.figure(figsize=(10,8))\n",
    "ratings['rating'].value_counts().plot.pie(autopct='%1.1f%%',shadow=True)\n",
    "plt.show()"
   ]
  },
  {
   "cell_type": "code",
   "execution_count": null,
   "id": "aa1e816c",
   "metadata": {
    "execution": {
     "iopub.execute_input": "2021-12-17T12:11:51.832731Z",
     "iopub.status.busy": "2021-12-17T12:11:51.831651Z",
     "iopub.status.idle": "2021-12-17T12:11:51.879147Z",
     "shell.execute_reply": "2021-12-17T12:11:51.878569Z",
     "shell.execute_reply.started": "2021-12-17T12:08:27.062985Z"
    },
    "papermill": {
     "duration": 0.094904,
     "end_time": "2021-12-17T12:11:51.879302",
     "exception": false,
     "start_time": "2021-12-17T12:11:51.784398",
     "status": "completed"
    },
    "tags": []
   },
   "outputs": [
    {
     "ename": "",
     "evalue": "",
     "output_type": "error",
     "traceback": [
      "\u001b[1;31mRunning cells with 'Python 3.10.2 64-bit' requires ipykernel package.\n",
      "Run the following command to install 'ipykernel' into the Python environment. \n",
      "Command: 'c:/Users/admin/AppData/Local/Programs/Python/Python310/python.exe -m pip install ipykernel -U --user --force-reinstall'"
     ]
    }
   ],
   "source": [
    "ratings=ratings[['userId','movieId','rating']] #separate columns from timestamp column\n",
    "ratings_df=ratings.groupby(['userId','movieId']).agg(np.max) #Groupby data\n",
    "ratings_df.head()"
   ]
  },
  {
   "cell_type": "markdown",
   "id": "d3b68c36",
   "metadata": {
    "papermill": {
     "duration": 0.044476,
     "end_time": "2021-12-17T12:11:51.968979",
     "exception": false,
     "start_time": "2021-12-17T12:11:51.924503",
     "status": "completed"
    },
    "tags": []
   },
   "source": [
    "**On the above, groupby data based on : Each user viewed which movies and how much rated for those movies.\n",
    "userid 1 viewed movie ids 1,3,6,47,50 ans so on and gave individual rating for each movie.**"
   ]
  },
  {
   "cell_type": "code",
   "execution_count": null,
   "id": "0b6baaee",
   "metadata": {
    "execution": {
     "iopub.execute_input": "2021-12-17T12:11:52.062251Z",
     "iopub.status.busy": "2021-12-17T12:11:52.061217Z",
     "iopub.status.idle": "2021-12-17T12:11:52.076291Z",
     "shell.execute_reply": "2021-12-17T12:11:52.076958Z",
     "shell.execute_reply.started": "2021-12-17T12:08:28.302691Z"
    },
    "papermill": {
     "duration": 0.063621,
     "end_time": "2021-12-17T12:11:52.077137",
     "exception": false,
     "start_time": "2021-12-17T12:11:52.013516",
     "status": "completed"
    },
    "tags": []
   },
   "outputs": [
    {
     "ename": "",
     "evalue": "",
     "output_type": "error",
     "traceback": [
      "\u001b[1;31mRunning cells with 'Python 3.10.2 64-bit' requires ipykernel package.\n",
      "Run the following command to install 'ipykernel' into the Python environment. \n",
      "Command: 'c:/Users/admin/AppData/Local/Programs/Python/Python310/python.exe -m pip install ipykernel -U --user --force-reinstall'"
     ]
    }
   ],
   "source": [
    "count_ratings=ratings.groupby('rating').count() #count all ratings\n",
    "count_ratings"
   ]
  },
  {
   "cell_type": "code",
   "execution_count": null,
   "id": "6bb6388e",
   "metadata": {
    "execution": {
     "iopub.execute_input": "2021-12-17T12:11:52.171474Z",
     "iopub.status.busy": "2021-12-17T12:11:52.170402Z",
     "iopub.status.idle": "2021-12-17T12:11:52.185132Z",
     "shell.execute_reply": "2021-12-17T12:11:52.185752Z",
     "shell.execute_reply.started": "2021-12-17T12:08:29.059035Z"
    },
    "papermill": {
     "duration": 0.063711,
     "end_time": "2021-12-17T12:11:52.185968",
     "exception": false,
     "start_time": "2021-12-17T12:11:52.122257",
     "status": "completed"
    },
    "tags": []
   },
   "outputs": [
    {
     "ename": "",
     "evalue": "",
     "output_type": "error",
     "traceback": [
      "\u001b[1;31mRunning cells with 'Python 3.10.2 64-bit' requires ipykernel package.\n",
      "Run the following command to install 'ipykernel' into the Python environment. \n",
      "Command: 'c:/Users/admin/AppData/Local/Programs/Python/Python310/python.exe -m pip install ipykernel -U --user --force-reinstall'"
     ]
    }
   ],
   "source": [
    "count_ratings['perc_total']=round(count_ratings['userId']*100/count_ratings['userId'].sum(),\n",
    "                                  1)\n",
    "count_ratings"
   ]
  },
  {
   "cell_type": "markdown",
   "id": "b440ad4b",
   "metadata": {
    "papermill": {
     "duration": 0.047336,
     "end_time": "2021-12-17T12:11:52.279157",
     "exception": false,
     "start_time": "2021-12-17T12:11:52.231821",
     "status": "completed"
    },
    "tags": []
   },
   "source": [
    "**On the above predict the percentage for each ratings. \n",
    "1. ratings 5.0 got 13.1 %\n",
    "1. ratings 4.5 got 8.5 %\n",
    "1. ratings 4.0 got 26.6 %\n",
    "1. ratings 3.5 got 13.0 %\n",
    "1. ratings 3.0 got 19.9 %\n",
    "1. ratings 2.5 got 5.5 %\n",
    "1. ratings 2.0 got 7.5 %\n",
    "1. ratings 1.5 got 1.8 %\n",
    "1. ratings 1.0 got 2.8 %\n",
    "1. ratings 0.5 got 1.4 %\n",
    "Highest rating is 4.0 and Lowest rating is 1.4 &**"
   ]
  },
  {
   "cell_type": "code",
   "execution_count": null,
   "id": "f8d5bd09",
   "metadata": {
    "execution": {
     "iopub.execute_input": "2021-12-17T12:11:52.378012Z",
     "iopub.status.busy": "2021-12-17T12:11:52.375940Z",
     "iopub.status.idle": "2021-12-17T12:11:52.529035Z",
     "shell.execute_reply": "2021-12-17T12:11:52.528293Z",
     "shell.execute_reply.started": "2021-12-17T12:08:30.342907Z"
    },
    "papermill": {
     "duration": 0.203505,
     "end_time": "2021-12-17T12:11:52.529190",
     "exception": false,
     "start_time": "2021-12-17T12:11:52.325685",
     "status": "completed"
    },
    "tags": []
   },
   "outputs": [
    {
     "ename": "",
     "evalue": "",
     "output_type": "error",
     "traceback": [
      "\u001b[1;31mRunning cells with 'Python 3.10.2 64-bit' requires ipykernel package.\n",
      "Run the following command to install 'ipykernel' into the Python environment. \n",
      "Command: 'c:/Users/admin/AppData/Local/Programs/Python/Python310/python.exe -m pip install ipykernel -U --user --force-reinstall'"
     ]
    }
   ],
   "source": [
    "# PLotting of each ratings\n",
    "count_ratings['perc_total'].plot.pie()  #pie plot"
   ]
  },
  {
   "cell_type": "code",
   "execution_count": null,
   "id": "d33fe33f",
   "metadata": {
    "execution": {
     "iopub.execute_input": "2021-12-17T12:11:52.634309Z",
     "iopub.status.busy": "2021-12-17T12:11:52.633591Z",
     "iopub.status.idle": "2021-12-17T12:11:52.879017Z",
     "shell.execute_reply": "2021-12-17T12:11:52.879619Z",
     "shell.execute_reply.started": "2021-12-17T12:08:30.962913Z"
    },
    "papermill": {
     "duration": 0.302751,
     "end_time": "2021-12-17T12:11:52.879807",
     "exception": false,
     "start_time": "2021-12-17T12:11:52.577056",
     "status": "completed"
    },
    "tags": []
   },
   "outputs": [
    {
     "ename": "",
     "evalue": "",
     "output_type": "error",
     "traceback": [
      "\u001b[1;31mRunning cells with 'Python 3.10.2 64-bit' requires ipykernel package.\n",
      "Run the following command to install 'ipykernel' into the Python environment. \n",
      "Command: 'c:/Users/admin/AppData/Local/Programs/Python/Python310/python.exe -m pip install ipykernel -U --user --force-reinstall'"
     ]
    }
   ],
   "source": [
    "count_ratings['perc_total'].plot.bar()  # bar plot"
   ]
  },
  {
   "cell_type": "code",
   "execution_count": null,
   "id": "bfe6525e",
   "metadata": {
    "execution": {
     "iopub.execute_input": "2021-12-17T12:11:52.982354Z",
     "iopub.status.busy": "2021-12-17T12:11:52.981319Z",
     "iopub.status.idle": "2021-12-17T12:11:52.988567Z",
     "shell.execute_reply": "2021-12-17T12:11:52.989221Z",
     "shell.execute_reply.started": "2021-12-17T12:08:31.652274Z"
    },
    "papermill": {
     "duration": 0.060339,
     "end_time": "2021-12-17T12:11:52.989404",
     "exception": false,
     "start_time": "2021-12-17T12:11:52.929065",
     "status": "completed"
    },
    "tags": []
   },
   "outputs": [
    {
     "ename": "",
     "evalue": "",
     "output_type": "error",
     "traceback": [
      "\u001b[1;31mRunning cells with 'Python 3.10.2 64-bit' requires ipykernel package.\n",
      "Run the following command to install 'ipykernel' into the Python environment. \n",
      "Command: 'c:/Users/admin/AppData/Local/Programs/Python/Python310/python.exe -m pip install ipykernel -U --user --force-reinstall'"
     ]
    }
   ],
   "source": [
    "genres=movies['genres']\n",
    "genres.head()  # visualization of genres column from movie dataset"
   ]
  },
  {
   "cell_type": "code",
   "execution_count": null,
   "id": "05fdc810",
   "metadata": {
    "execution": {
     "iopub.execute_input": "2021-12-17T12:11:53.091641Z",
     "iopub.status.busy": "2021-12-17T12:11:53.090559Z",
     "iopub.status.idle": "2021-12-17T12:11:53.819939Z",
     "shell.execute_reply": "2021-12-17T12:11:53.819365Z",
     "shell.execute_reply.started": "2021-12-17T12:08:32.322593Z"
    },
    "papermill": {
     "duration": 0.782414,
     "end_time": "2021-12-17T12:11:53.820092",
     "exception": false,
     "start_time": "2021-12-17T12:11:53.037678",
     "status": "completed"
    },
    "tags": []
   },
   "outputs": [
    {
     "ename": "",
     "evalue": "",
     "output_type": "error",
     "traceback": [
      "\u001b[1;31mRunning cells with 'Python 3.10.2 64-bit' requires ipykernel package.\n",
      "Run the following command to install 'ipykernel' into the Python environment. \n",
      "Command: 'c:/Users/admin/AppData/Local/Programs/Python/Python310/python.exe -m pip install ipykernel -U --user --force-reinstall'"
     ]
    }
   ],
   "source": [
    "genre_list=\" \"\n",
    "for index,row in movies.iterrows():\n",
    "    genre_list+=row.genres+\"|\"\n",
    "genre_list_split=genre_list.split(\"|\")\n",
    "new_list=list(set(genre_list_split))\n",
    "new_list.remove('')\n",
    "new_list"
   ]
  },
  {
   "cell_type": "markdown",
   "id": "be7d5740",
   "metadata": {
    "papermill": {
     "duration": 0.049591,
     "end_time": "2021-12-17T12:11:53.919642",
     "exception": false,
     "start_time": "2021-12-17T12:11:53.870051",
     "status": "completed"
    },
    "tags": []
   },
   "source": [
    "**On the above split the all movie genres from the dataset and used \"set\" data structure for non duplication of genres in the same. \n",
    "If in the column \"|\" finds, it will separate the genres of movies and remove the duplication in the same by using \"set\" data structure.**"
   ]
  },
  {
   "cell_type": "code",
   "execution_count": null,
   "id": "f5941252",
   "metadata": {
    "execution": {
     "iopub.execute_input": "2021-12-17T12:11:54.021632Z",
     "iopub.status.busy": "2021-12-17T12:11:54.020546Z",
     "iopub.status.idle": "2021-12-17T12:11:54.024628Z",
     "shell.execute_reply": "2021-12-17T12:11:54.025222Z",
     "shell.execute_reply.started": "2021-12-17T12:08:35.002669Z"
    },
    "papermill": {
     "duration": 0.056783,
     "end_time": "2021-12-17T12:11:54.025408",
     "exception": false,
     "start_time": "2021-12-17T12:11:53.968625",
     "status": "completed"
    },
    "tags": []
   },
   "outputs": [
    {
     "ename": "",
     "evalue": "",
     "output_type": "error",
     "traceback": [
      "\u001b[1;31mRunning cells with 'Python 3.10.2 64-bit' requires ipykernel package.\n",
      "Run the following command to install 'ipykernel' into the Python environment. \n",
      "Command: 'c:/Users/admin/AppData/Local/Programs/Python/Python310/python.exe -m pip install ipykernel -U --user --force-reinstall'"
     ]
    }
   ],
   "source": [
    "m=movies.copy() #make a copy of movies dataset"
   ]
  },
  {
   "cell_type": "code",
   "execution_count": null,
   "id": "3a6a54c3",
   "metadata": {
    "execution": {
     "iopub.execute_input": "2021-12-17T12:11:54.127742Z",
     "iopub.status.busy": "2021-12-17T12:11:54.126652Z",
     "iopub.status.idle": "2021-12-17T12:11:58.650167Z",
     "shell.execute_reply": "2021-12-17T12:11:58.649481Z",
     "shell.execute_reply.started": "2021-12-17T12:08:35.988572Z"
    },
    "papermill": {
     "duration": 4.575953,
     "end_time": "2021-12-17T12:11:58.650332",
     "exception": false,
     "start_time": "2021-12-17T12:11:54.074379",
     "status": "completed"
    },
    "tags": []
   },
   "outputs": [
    {
     "ename": "",
     "evalue": "",
     "output_type": "error",
     "traceback": [
      "\u001b[1;31mRunning cells with 'Python 3.10.2 64-bit' requires ipykernel package.\n",
      "Run the following command to install 'ipykernel' into the Python environment. \n",
      "Command: 'c:/Users/admin/AppData/Local/Programs/Python/Python310/python.exe -m pip install ipykernel -U --user --force-reinstall'"
     ]
    }
   ],
   "source": [
    "for genre in new_list:\n",
    "    m[genre]=m.apply(lambda _:int(genre in _.genres),axis=1)\n",
    "m.head()"
   ]
  },
  {
   "cell_type": "markdown",
   "id": "d707b93c",
   "metadata": {
    "papermill": {
     "duration": 0.049499,
     "end_time": "2021-12-17T12:11:58.749538",
     "exception": false,
     "start_time": "2021-12-17T12:11:58.700039",
     "status": "completed"
    },
    "tags": []
   },
   "source": [
    "**Make a Data with title of the movie and genre of the data. If the genre of the movie matches the entire column then it shows 1.\n",
    "Like movie id 3 whose title is Grumpier Old Men(1995) and genre is Comedy|Romance. This movies genre matches the Romance column very much. '...' indicates there are few columns.**"
   ]
  },
  {
   "cell_type": "code",
   "execution_count": null,
   "id": "39053904",
   "metadata": {
    "execution": {
     "iopub.execute_input": "2021-12-17T12:11:58.852718Z",
     "iopub.status.busy": "2021-12-17T12:11:58.851677Z",
     "iopub.status.idle": "2021-12-17T12:11:58.872868Z",
     "shell.execute_reply": "2021-12-17T12:11:58.873525Z",
     "shell.execute_reply.started": "2021-12-17T12:08:44.473117Z"
    },
    "papermill": {
     "duration": 0.074604,
     "end_time": "2021-12-17T12:11:58.873706",
     "exception": false,
     "start_time": "2021-12-17T12:11:58.799102",
     "status": "completed"
    },
    "tags": []
   },
   "outputs": [
    {
     "ename": "",
     "evalue": "",
     "output_type": "error",
     "traceback": [
      "\u001b[1;31mRunning cells with 'Python 3.10.2 64-bit' requires ipykernel package.\n",
      "Run the following command to install 'ipykernel' into the Python environment. \n",
      "Command: 'c:/Users/admin/AppData/Local/Programs/Python/Python310/python.exe -m pip install ipykernel -U --user --force-reinstall'"
     ]
    }
   ],
   "source": [
    "avg=pd.DataFrame(ratings.groupby('movieId')['rating'].agg(['mean','count']))\n",
    "avg # make a dataframe for each movie id with its corresponding ratings mean and count"
   ]
  },
  {
   "cell_type": "code",
   "execution_count": null,
   "id": "fe09061d",
   "metadata": {
    "execution": {
     "iopub.execute_input": "2021-12-17T12:11:58.990141Z",
     "iopub.status.busy": "2021-12-17T12:11:58.989432Z",
     "iopub.status.idle": "2021-12-17T12:11:58.993552Z",
     "shell.execute_reply": "2021-12-17T12:11:58.992936Z",
     "shell.execute_reply.started": "2021-12-17T12:08:45.728928Z"
    },
    "papermill": {
     "duration": 0.069351,
     "end_time": "2021-12-17T12:11:58.993702",
     "exception": false,
     "start_time": "2021-12-17T12:11:58.924351",
     "status": "completed"
    },
    "tags": []
   },
   "outputs": [
    {
     "ename": "",
     "evalue": "",
     "output_type": "error",
     "traceback": [
      "\u001b[1;31mRunning cells with 'Python 3.10.2 64-bit' requires ipykernel package.\n",
      "Run the following command to install 'ipykernel' into the Python environment. \n",
      "Command: 'c:/Users/admin/AppData/Local/Programs/Python/Python310/python.exe -m pip install ipykernel -U --user --force-reinstall'"
     ]
    }
   ],
   "source": [
    "avg['movieId']=avg.index\n",
    "avg # add the movieid column"
   ]
  },
  {
   "cell_type": "code",
   "execution_count": null,
   "id": "ceb29d30",
   "metadata": {
    "execution": {
     "iopub.execute_input": "2021-12-17T12:11:59.113935Z",
     "iopub.status.busy": "2021-12-17T12:11:59.113237Z",
     "iopub.status.idle": "2021-12-17T12:11:59.120732Z",
     "shell.execute_reply": "2021-12-17T12:11:59.121477Z",
     "shell.execute_reply.started": "2021-12-17T12:08:46.803081Z"
    },
    "papermill": {
     "duration": 0.071322,
     "end_time": "2021-12-17T12:11:59.121649",
     "exception": false,
     "start_time": "2021-12-17T12:11:59.050327",
     "status": "completed"
    },
    "tags": []
   },
   "outputs": [
    {
     "ename": "",
     "evalue": "",
     "output_type": "error",
     "traceback": [
      "\u001b[1;31mRunning cells with 'Python 3.10.2 64-bit' requires ipykernel package.\n",
      "Run the following command to install 'ipykernel' into the Python environment. \n",
      "Command: 'c:/Users/admin/AppData/Local/Programs/Python/Python310/python.exe -m pip install ipykernel -U --user --force-reinstall'"
     ]
    }
   ],
   "source": [
    "np.percentile(avg['count'],70)"
   ]
  },
  {
   "cell_type": "markdown",
   "id": "dffcaedc",
   "metadata": {
    "papermill": {
     "duration": 0.051092,
     "end_time": "2021-12-17T12:11:59.229395",
     "exception": false,
     "start_time": "2021-12-17T12:11:59.178303",
     "status": "completed"
    },
    "tags": []
   },
   "source": [
    "**On the above 70 % movie has average count 7**"
   ]
  },
  {
   "cell_type": "code",
   "execution_count": null,
   "id": "ae55dd55",
   "metadata": {
    "execution": {
     "iopub.execute_input": "2021-12-17T12:11:59.335571Z",
     "iopub.status.busy": "2021-12-17T12:11:59.334901Z",
     "iopub.status.idle": "2021-12-17T12:11:59.340462Z",
     "shell.execute_reply": "2021-12-17T12:11:59.341118Z",
     "shell.execute_reply.started": "2021-12-17T12:08:49.012943Z"
    },
    "papermill": {
     "duration": 0.060231,
     "end_time": "2021-12-17T12:11:59.341287",
     "exception": false,
     "start_time": "2021-12-17T12:11:59.281056",
     "status": "completed"
    },
    "tags": []
   },
   "outputs": [
    {
     "ename": "",
     "evalue": "",
     "output_type": "error",
     "traceback": [
      "\u001b[1;31mRunning cells with 'Python 3.10.2 64-bit' requires ipykernel package.\n",
      "Run the following command to install 'ipykernel' into the Python environment. \n",
      "Command: 'c:/Users/admin/AppData/Local/Programs/Python/Python310/python.exe -m pip install ipykernel -U --user --force-reinstall'"
     ]
    }
   ],
   "source": [
    "np.percentile(avg['count'],50)"
   ]
  },
  {
   "cell_type": "markdown",
   "id": "db9993f0",
   "metadata": {
    "papermill": {
     "duration": 0.050818,
     "end_time": "2021-12-17T12:11:59.444090",
     "exception": false,
     "start_time": "2021-12-17T12:11:59.393272",
     "status": "completed"
    },
    "tags": []
   },
   "source": [
    "**On the above 50 % movie has average count 3**"
   ]
  },
  {
   "cell_type": "code",
   "execution_count": null,
   "id": "e060e6aa",
   "metadata": {
    "execution": {
     "iopub.execute_input": "2021-12-17T12:11:59.549220Z",
     "iopub.status.busy": "2021-12-17T12:11:59.548552Z",
     "iopub.status.idle": "2021-12-17T12:12:00.259769Z",
     "shell.execute_reply": "2021-12-17T12:12:00.260326Z",
     "shell.execute_reply.started": "2021-12-17T12:08:50.763111Z"
    },
    "papermill": {
     "duration": 0.765525,
     "end_time": "2021-12-17T12:12:00.260509",
     "exception": false,
     "start_time": "2021-12-17T12:11:59.494984",
     "status": "completed"
    },
    "tags": []
   },
   "outputs": [
    {
     "ename": "",
     "evalue": "",
     "output_type": "error",
     "traceback": [
      "\u001b[1;31mRunning cells with 'Python 3.10.2 64-bit' requires ipykernel package.\n",
      "Run the following command to install 'ipykernel' into the Python environment. \n",
      "Command: 'c:/Users/admin/AppData/Local/Programs/Python/Python310/python.exe -m pip install ipykernel -U --user --force-reinstall'"
     ]
    }
   ],
   "source": [
    "idx2title={int(row['movieId']):row['title']\n",
    "          for _,row in movies.iterrows()}\n",
    "idx2title"
   ]
  },
  {
   "cell_type": "markdown",
   "id": "237f094c",
   "metadata": {
    "papermill": {
     "duration": 0.052869,
     "end_time": "2021-12-17T12:12:00.366614",
     "exception": false,
     "start_time": "2021-12-17T12:12:00.313745",
     "status": "completed"
    },
    "tags": []
   },
   "source": [
    "**On the above display the all movie titles arranged one after the another**"
   ]
  },
  {
   "cell_type": "code",
   "execution_count": null,
   "id": "7503d9bf",
   "metadata": {
    "execution": {
     "iopub.execute_input": "2021-12-17T12:12:00.482340Z",
     "iopub.status.busy": "2021-12-17T12:12:00.481664Z",
     "iopub.status.idle": "2021-12-17T12:12:00.518900Z",
     "shell.execute_reply": "2021-12-17T12:12:00.519427Z",
     "shell.execute_reply.started": "2021-12-17T12:08:54.073513Z"
    },
    "papermill": {
     "duration": 0.099079,
     "end_time": "2021-12-17T12:12:00.519617",
     "exception": false,
     "start_time": "2021-12-17T12:12:00.420538",
     "status": "completed"
    },
    "tags": []
   },
   "outputs": [
    {
     "ename": "",
     "evalue": "",
     "output_type": "error",
     "traceback": [
      "\u001b[1;31mRunning cells with 'Python 3.10.2 64-bit' requires ipykernel package.\n",
      "Run the following command to install 'ipykernel' into the Python environment. \n",
      "Command: 'c:/Users/admin/AppData/Local/Programs/Python/Python310/python.exe -m pip install ipykernel -U --user --force-reinstall'"
     ]
    }
   ],
   "source": [
    "title2idx={j:i for i,j in idx2title.items()}\n",
    "title2idx"
   ]
  },
  {
   "cell_type": "markdown",
   "id": "5f956a85",
   "metadata": {
    "papermill": {
     "duration": 0.054747,
     "end_time": "2021-12-17T12:12:00.629144",
     "exception": false,
     "start_time": "2021-12-17T12:12:00.574397",
     "status": "completed"
    },
    "tags": []
   },
   "source": [
    "**On the above display the all movie titles arranged one after the another in reverse order**"
   ]
  },
  {
   "cell_type": "code",
   "execution_count": null,
   "id": "0dfb6b94",
   "metadata": {
    "execution": {
     "iopub.execute_input": "2021-12-17T12:12:00.742497Z",
     "iopub.status.busy": "2021-12-17T12:12:00.741828Z",
     "iopub.status.idle": "2021-12-17T12:12:00.756618Z",
     "shell.execute_reply": "2021-12-17T12:12:00.757225Z",
     "shell.execute_reply.started": "2021-12-17T12:08:56.173650Z"
    },
    "papermill": {
     "duration": 0.073109,
     "end_time": "2021-12-17T12:12:00.757416",
     "exception": false,
     "start_time": "2021-12-17T12:12:00.684307",
     "status": "completed"
    },
    "tags": []
   },
   "outputs": [
    {
     "ename": "",
     "evalue": "",
     "output_type": "error",
     "traceback": [
      "\u001b[1;31mRunning cells with 'Python 3.10.2 64-bit' requires ipykernel package.\n",
      "Run the following command to install 'ipykernel' into the Python environment. \n",
      "Command: 'c:/Users/admin/AppData/Local/Programs/Python/Python310/python.exe -m pip install ipykernel -U --user --force-reinstall'"
     ]
    }
   ],
   "source": [
    "highratings=ratings[ratings.rating>=4]\n",
    "highratings"
   ]
  },
  {
   "cell_type": "markdown",
   "id": "dc159cb1",
   "metadata": {
    "papermill": {
     "duration": 0.055217,
     "end_time": "2021-12-17T12:12:00.868211",
     "exception": false,
     "start_time": "2021-12-17T12:12:00.812994",
     "status": "completed"
    },
    "tags": []
   },
   "source": [
    "**Display the movie data whose ratings is greater than or equal to 4**"
   ]
  },
  {
   "cell_type": "code",
   "execution_count": null,
   "id": "71f317ce",
   "metadata": {
    "execution": {
     "iopub.execute_input": "2021-12-17T12:12:00.982819Z",
     "iopub.status.busy": "2021-12-17T12:12:00.982165Z",
     "iopub.status.idle": "2021-12-17T12:12:33.521530Z",
     "shell.execute_reply": "2021-12-17T12:12:33.520595Z",
     "shell.execute_reply.started": "2021-12-17T12:08:58.263161Z"
    },
    "papermill": {
     "duration": 32.597671,
     "end_time": "2021-12-17T12:12:33.521691",
     "exception": false,
     "start_time": "2021-12-17T12:12:00.924020",
     "status": "completed"
    },
    "tags": []
   },
   "outputs": [
    {
     "ename": "",
     "evalue": "",
     "output_type": "error",
     "traceback": [
      "\u001b[1;31mRunning cells with 'Python 3.10.2 64-bit' requires ipykernel package.\n",
      "Run the following command to install 'ipykernel' into the Python environment. \n",
      "Command: 'c:/Users/admin/AppData/Local/Programs/Python/Python310/python.exe -m pip install ipykernel -U --user --force-reinstall'"
     ]
    }
   ],
   "source": [
    "itemsets=[[idx2title[mov] for mov in highratings[highratings.userId==user].movieId]\n",
    "         for user in highratings.userId]\n",
    "itemsets"
   ]
  },
  {
   "cell_type": "markdown",
   "id": "878f94f9",
   "metadata": {
    "papermill": {
     "duration": 0.198861,
     "end_time": "2021-12-17T12:12:33.923574",
     "exception": false,
     "start_time": "2021-12-17T12:12:33.724713",
     "status": "completed"
    },
    "tags": []
   },
   "source": [
    "**On the above display all movie names whose rating is greater than or equal to 4.0**"
   ]
  },
  {
   "cell_type": "markdown",
   "id": "06bdb667",
   "metadata": {
    "papermill": {
     "duration": 0.199664,
     "end_time": "2021-12-17T12:12:34.322133",
     "exception": false,
     "start_time": "2021-12-17T12:12:34.122469",
     "status": "completed"
    },
    "tags": []
   },
   "source": [
    "# Recommendation Engine making starts here\n"
   ]
  },
  {
   "cell_type": "markdown",
   "id": "f97b7260",
   "metadata": {
    "papermill": {
     "duration": 0.198846,
     "end_time": "2021-12-17T12:12:34.721974",
     "exception": false,
     "start_time": "2021-12-17T12:12:34.523128",
     "status": "completed"
    },
    "tags": []
   },
   "source": [
    "**Recommendation engine will be made by using Apriori algorithm which is very much popular algorithm for Association Rule Mining.**"
   ]
  },
  {
   "cell_type": "code",
   "execution_count": null,
   "id": "0625309c",
   "metadata": {
    "execution": {
     "iopub.execute_input": "2021-12-17T12:12:35.124084Z",
     "iopub.status.busy": "2021-12-17T12:12:35.123373Z",
     "iopub.status.idle": "2021-12-17T12:12:39.990142Z",
     "shell.execute_reply": "2021-12-17T12:12:39.990664Z",
     "shell.execute_reply.started": "2021-12-17T12:10:14.463578Z"
    },
    "papermill": {
     "duration": 5.06971,
     "end_time": "2021-12-17T12:12:39.990849",
     "exception": false,
     "start_time": "2021-12-17T12:12:34.921139",
     "status": "completed"
    },
    "tags": []
   },
   "outputs": [
    {
     "ename": "",
     "evalue": "",
     "output_type": "error",
     "traceback": [
      "\u001b[1;31mRunning cells with 'Python 3.10.2 64-bit' requires ipykernel package.\n",
      "Run the following command to install 'ipykernel' into the Python environment. \n",
      "Command: 'c:/Users/admin/AppData/Local/Programs/Python/Python310/python.exe -m pip install ipykernel -U --user --force-reinstall'"
     ]
    }
   ],
   "source": [
    "from mlxtend.preprocessing import TransactionEncoder\n",
    "te=TransactionEncoder()\n",
    "tr_ary=te.fit(itemsets).transform(itemsets)\n",
    "DF=pd.DataFrame(tr_ary,columns=te.columns_)\n",
    "DF.head()"
   ]
  },
  {
   "cell_type": "markdown",
   "id": "fc3e88db",
   "metadata": {
    "papermill": {
     "duration": 0.197523,
     "end_time": "2021-12-17T12:12:40.391861",
     "exception": false,
     "start_time": "2021-12-17T12:12:40.194338",
     "status": "completed"
    },
    "tags": []
   },
   "source": [
    "**On the above rows has been converted into columns and columns has been converted into rows.\n",
    "Movie does not rated is False and rated is True.**"
   ]
  },
  {
   "cell_type": "code",
   "execution_count": null,
   "id": "dfcd9d6c",
   "metadata": {
    "execution": {
     "iopub.execute_input": "2021-12-17T12:12:40.797195Z",
     "iopub.status.busy": "2021-12-17T12:12:40.796495Z",
     "iopub.status.idle": "2021-12-17T12:13:03.044274Z",
     "shell.execute_reply": "2021-12-17T12:13:03.044809Z",
     "shell.execute_reply.started": "2021-12-17T12:10:22.428950Z"
    },
    "papermill": {
     "duration": 22.452557,
     "end_time": "2021-12-17T12:13:03.045015",
     "exception": false,
     "start_time": "2021-12-17T12:12:40.592458",
     "status": "completed"
    },
    "tags": []
   },
   "outputs": [
    {
     "ename": "",
     "evalue": "",
     "output_type": "error",
     "traceback": [
      "\u001b[1;31mRunning cells with 'Python 3.10.2 64-bit' requires ipykernel package.\n",
      "Run the following command to install 'ipykernel' into the Python environment. \n",
      "Command: 'c:/Users/admin/AppData/Local/Programs/Python/Python310/python.exe -m pip install ipykernel -U --user --force-reinstall'"
     ]
    }
   ],
   "source": [
    "from mlxtend.frequent_patterns import apriori, association_rules\n",
    "f=apriori(DF, min_support=0.2, use_colnames=True, max_len=2)\n",
    "rules=association_rules(f,metric='lift',min_threshold=2)\n",
    "rules.head()"
   ]
  },
  {
   "cell_type": "markdown",
   "id": "be03eee5",
   "metadata": {
    "papermill": {
     "duration": 0.199047,
     "end_time": "2021-12-17T12:13:03.442455",
     "exception": false,
     "start_time": "2021-12-17T12:13:03.243408",
     "status": "completed"
    },
    "tags": []
   },
   "source": [
    "**On the above, the movie has been recommended to use user where 'antecedents' is the movie column and 'consequents' is the recommended movie column.\n",
    "In the first row if the see the '(2001:A Space Odyssey(1968))' movie then '(Blade Runner(1982))' will be recommended to you for further view and whose confience of the view is 72 % approximately.\n",
    "Lift column is used for to tell us likelihood of watching both movies together is 2.144151 times more than the likelihood of just watching one movie.\n",
    "Support is the default popularity of an item. In mathematical terms the support of one item is nothing but the ratio of transactions involving one item to the total number of transactions. \n",
    "support(movie_1)=(All transactions involving movie_1)/(total transactions)\n",
    "Conviction compares the probability that X appears without Y if they were dependent with the actual frequency of the appearance of X without Y.\n",
    "Threshold in the Apriori algorithm identifies the item sets which are subsets of at least as each transaction is seen as a set of items.**"
   ]
  }
 ],
 "metadata": {
  "kernelspec": {
   "display_name": "Python 3.10.2 64-bit",
   "language": "python",
   "name": "python3"
  },
  "language_info": {
   "codemirror_mode": {
    "name": "ipython",
    "version": 3
   },
   "file_extension": ".py",
   "mimetype": "text/x-python",
   "name": "python",
   "nbconvert_exporter": "python",
   "pygments_lexer": "ipython3",
   "version": "3.10.2"
  },
  "papermill": {
   "default_parameters": {},
   "duration": 87.141789,
   "end_time": "2021-12-17T12:13:04.854322",
   "environment_variables": {},
   "exception": null,
   "input_path": "__notebook__.ipynb",
   "output_path": "__notebook__.ipynb",
   "parameters": {},
   "start_time": "2021-12-17T12:11:37.712533",
   "version": "2.3.3"
  },
  "vscode": {
   "interpreter": {
    "hash": "beedbe2faf2f7048d727558d0bc3221e7eba2a0b921cac4d4771b2feb8f74b30"
   }
  }
 },
 "nbformat": 4,
 "nbformat_minor": 5
}
